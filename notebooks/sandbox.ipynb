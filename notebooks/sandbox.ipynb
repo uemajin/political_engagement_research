{
 "cells": [
  {
   "cell_type": "code",
   "execution_count": 1,
   "metadata": {},
   "outputs": [
    {
     "name": "stderr",
     "output_type": "stream",
     "text": [
      "/Users/j.uema/.pyenv/versions/3.9.16/lib/python3.9/site-packages/tqdm/auto.py:21: TqdmWarning: IProgress not found. Please update jupyter and ipywidgets. See https://ipywidgets.readthedocs.io/en/stable/user_install.html\n",
      "  from .autonotebook import tqdm as notebook_tqdm\n"
     ]
    }
   ],
   "source": [
    "import sys\n",
    "import os\n",
    "\n",
    "# Add the root directory to the sys.path\n",
    "sys.path.append(os.path.abspath(os.path.join('..')))\n",
    "\n",
    "# Now you can import using an absolute import\n",
    "from src.data.instagram import *"
   ]
  },
  {
   "cell_type": "code",
   "execution_count": 2,
   "metadata": {},
   "outputs": [],
   "source": [
    "driver = login_in_instagram()"
   ]
  },
  {
   "cell_type": "code",
   "execution_count": 3,
   "metadata": {},
   "outputs": [
    {
     "name": "stderr",
     "output_type": "stream",
     "text": [
      "Generating data for Ricardo Nunes:   1%|▏         | 1/72 [01:32<1:49:46, 92.76s/post]\n"
     ]
    },
    {
     "ename": "KeyboardInterrupt",
     "evalue": "",
     "output_type": "error",
     "traceback": [
      "\u001b[0;31m---------------------------------------------------------------------------\u001b[0m",
      "\u001b[0;31mKeyboardInterrupt\u001b[0m                         Traceback (most recent call last)",
      "Cell \u001b[0;32mIn[3], line 32\u001b[0m\n\u001b[1;32m     30\u001b[0m \u001b[38;5;28;01melse\u001b[39;00m:\n\u001b[1;32m     31\u001b[0m     logging\u001b[38;5;241m.\u001b[39minfo(\u001b[38;5;124mf\u001b[39m\u001b[38;5;124m\"\u001b[39m\u001b[38;5;124mScraping post: \u001b[39m\u001b[38;5;132;01m{\u001b[39;00mpost\u001b[38;5;132;01m}\u001b[39;00m\u001b[38;5;124m\"\u001b[39m)\n\u001b[0;32m---> 32\u001b[0m     title, comments \u001b[38;5;241m=\u001b[39m \u001b[43mscrap_comments_from_url\u001b[49m\u001b[43m(\u001b[49m\u001b[43mdriver\u001b[49m\u001b[43m,\u001b[49m\u001b[43m \u001b[49m\u001b[43mpost\u001b[49m\u001b[43m)\u001b[49m\n\u001b[1;32m     34\u001b[0m     hPost \u001b[38;5;241m=\u001b[39m []\n\u001b[1;32m     36\u001b[0m     \u001b[38;5;28;01mfor\u001b[39;00m comment \u001b[38;5;129;01min\u001b[39;00m comments:\n",
      "File \u001b[0;32m~/Documents/GitHub/political_engagement_research/src/data/instagram.py:206\u001b[0m, in \u001b[0;36mscrap_comments_from_url\u001b[0;34m(driver, url, scrolls)\u001b[0m\n\u001b[1;32m    203\u001b[0m title \u001b[38;5;241m=\u001b[39m driver\u001b[38;5;241m.\u001b[39mfind_elements(By\u001b[38;5;241m.\u001b[39mXPATH, xpath_title)[\u001b[38;5;241m0\u001b[39m]\u001b[38;5;241m.\u001b[39mtext\n\u001b[1;32m    205\u001b[0m \u001b[38;5;28;01mfor\u001b[39;00m i \u001b[38;5;129;01min\u001b[39;00m \u001b[38;5;28mrange\u001b[39m(scrolls):\n\u001b[0;32m--> 206\u001b[0m     \u001b[43mscroll_comments\u001b[49m\u001b[43m(\u001b[49m\u001b[43mdriver\u001b[49m\u001b[43m)\u001b[49m\n\u001b[1;32m    208\u001b[0m i \u001b[38;5;241m=\u001b[39m \u001b[38;5;241m1\u001b[39m\n\u001b[1;32m    209\u001b[0m \u001b[38;5;28;01mwhile\u001b[39;00m \u001b[38;5;28;01mTrue\u001b[39;00m:\n",
      "File \u001b[0;32m~/Documents/GitHub/political_engagement_research/src/data/instagram.py:93\u001b[0m, in \u001b[0;36mscroll_comments\u001b[0;34m(driver)\u001b[0m\n\u001b[1;32m     91\u001b[0m comments_section \u001b[38;5;241m=\u001b[39m driver\u001b[38;5;241m.\u001b[39mfind_element(By\u001b[38;5;241m.\u001b[39mXPATH, comments_section_xpath)\n\u001b[1;32m     92\u001b[0m driver\u001b[38;5;241m.\u001b[39mexecute_script(\u001b[38;5;124m\"\u001b[39m\u001b[38;5;124marguments[0].scrollIntoView(false);\u001b[39m\u001b[38;5;124m\"\u001b[39m, comments_section)\n\u001b[0;32m---> 93\u001b[0m \u001b[43mtime\u001b[49m\u001b[38;5;241;43m.\u001b[39;49m\u001b[43msleep\u001b[49m\u001b[43m(\u001b[49m\u001b[43mtimer_load_comment\u001b[49m\u001b[43m(\u001b[49m\u001b[43m)\u001b[49m\u001b[43m)\u001b[49m\n",
      "\u001b[0;31mKeyboardInterrupt\u001b[0m: "
     ]
    }
   ],
   "source": [
    "with open('/Users/j.uema/Documents/GitHub/political_engagement_research/data/input/candidates.json', 'r') as f:\n",
    "    candidates = json.load(f)\n",
    "\n",
    "# Get the list of posts from each candidate\n",
    "\n",
    "hFinal = []\n",
    "    \n",
    "for candidate_profile in candidates:\n",
    "\n",
    "    directory = f'data/raw/{candidate_profile[\"name\"]}'\n",
    "    if not os.path.exists(directory):\n",
    "        os.makedirs(directory)\n",
    "\n",
    "    posts = get_posts_and_reels_from_profile(driver, candidate_profile[\"instagram_profile\"])\n",
    "\n",
    "    logging.info(f\"Found {len(posts)} posts for {candidate_profile['name']}\")\n",
    "\n",
    "    for _ in tqdm(range(len(posts)), desc=f\"Generating data for {candidate_profile['name']}\", unit=\"post\"):\n",
    "\n",
    "        post = posts[_]\n",
    "        post_link = post.split('/')[-2]\n",
    "\n",
    "        if os.path.exists(f'{directory}/{post_link}.pkl'):\n",
    "            logging.info(f\"Reading logged post: {post_link}\")\n",
    "            with open(f'{directory}/{post_link}.pkl', 'rb') as f:\n",
    "                hRow = pickle.load(f)\n",
    "                hFinal.append(hRow)\n",
    "                logging.info(f\"Appended post: {post_link}\")\n",
    "        \n",
    "        else:\n",
    "            logging.info(f\"Scraping post: {post}\")\n",
    "            title, comments = scrap_comments_from_url(driver, post)\n",
    "\n",
    "            hPost = []\n",
    "\n",
    "            for comment in comments:\n",
    "\n",
    "                hRow = {\n",
    "                    'candidate': candidate_profile['name'],\n",
    "                    'post_url': post,\n",
    "                    'post': title,\n",
    "                    'comment': comment['comment'],\n",
    "                    'likes': comment['likes'],\n",
    "                    }\n",
    "\n",
    "                hPost.append(hRow)\n",
    "\n",
    "            with open(f'{directory}/{post_link}.pkl', 'wb') as f:\n",
    "                pickle.dump(hPost, f)\n",
    "            logging.info(f\"Logged post: {post_link}\")\n",
    "\n",
    "            hFinal.append(hPost)\n",
    "            logging.info(f\"Appended post: {post_link}\")\n",
    "\n",
    "driver.quit()"
   ]
  },
  {
   "cell_type": "code",
   "execution_count": null,
   "metadata": {},
   "outputs": [],
   "source": [
    "full_xpath = '/html/body/div[2]/div/div/div[2]/div/div/div[1]/div[1]/div[1]/section/main/div/div[1]/div/div[2]/div/div[2]/div/div[2]/div[3]/div/div/div[2]/div[1]/div[1]/div/div[1]/span[1]/span/div/a/div/div/span'\n"
   ]
  },
  {
   "cell_type": "code",
   "execution_count": null,
   "metadata": {},
   "outputs": [],
   "source": [
    "# Find the element to hover over\n",
    "hover_element = driver.find_element(By.XPATH, full_xpath)\n",
    "\n",
    "# Perform the hover action\n",
    "hover = ActionChains(driver).move_to_element(hover_element)\n",
    "hover.perform()\n",
    "\n"
   ]
  },
  {
   "cell_type": "code",
   "execution_count": null,
   "metadata": {},
   "outputs": [],
   "source": []
  },
  {
   "cell_type": "code",
   "execution_count": null,
   "metadata": {},
   "outputs": [],
   "source": [
    "# Find the element to hover over\n",
    "hover_element = driver.find_element(By.XPATH, full_xpath)\n",
    "\n",
    "# Perform the hover action\n",
    "hover = ActionChains(driver).move_to_element(hover_element)\n",
    "hover.perform()\n",
    "\n",
    "time.sleep(1.1)\n",
    "\n",
    "#x_path_user_profile = '/html/body/div[2]/div/div/div[2]/div/div/div[2]/div/div/div[1]/div[1]/div/div[1]/div/div[2]/div/div[1]/a/span'\n",
    "#x_path_user_name = '/html/body/div[2]/div/div/div[2]/div/div/div[2]/div/div/div[1]/div[1]/div/div[1]/div/div[2]/div/div[2]/span/span'\n",
    "#x_path_user_publicações = '/html/body/div[2]/div/div/div[2]/div/div/div[2]/div/div/div[1]/div[1]/div/div[2]/div/div[1]/div[1]/span/span'\n",
    "#x_path_user_followers = '/html/body/div[2]/div/div/div[2]/div/div/div[2]/div/div/div[1]/div[1]/div/div[2]/div/div[2]/div[1]/span/span'\n",
    "#x_path_user_following = '/html/body/div[2]/div/div/div[2]/div/div/div[2]/div/div/div[1]/div[1]/div/div[2]/div/div[3]/div[1]/span/span'\n",
    "\n",
    "# Retrieve the text or value from the dynamically generated element\n",
    "#value = dynamic_element.text  # or use .get_attribute('attribute_name') if needed\n",
    "\n",
    "\n",
    "#logging.info(f'Retrieved value: {value}')"
   ]
  },
  {
   "cell_type": "code",
   "execution_count": null,
   "metadata": {},
   "outputs": [],
   "source": [
    "#user_profile = '/html/body/div[2]/div/div/div[2]/div/div/div[2]/div/div/div[1]/div[1]/div/div[1]/div/div[2]/div/div[1]/a/span'\n",
    "#user_name = '/html/body/div[2]/div/div/div[2]/div/div/div[2]/div/div/div[1]/div[1]/div/div[1]/div/div[2]/div/div[2]/span/span'\n",
    "#user_publicações = '/html/body/div[2]/div/div/div[2]/div/div/div[2]/div/div/div[1]/div[1]/div/div[2]/div/div[1]/div[1]/span/span'\n",
    "#user_followers = '/html/body/div[2]/div/div/div[2]/div/div/div[2]/div/div/div[1]/div[1]/div/div[2]/div/div[2]/div[1]/span/span'\n",
    "#user_following = '/html/body/div[2]/div/div/div[2]/div/div/div[2]/div/div/div[1]/div[1]/div/div[2]/div/div[3]/div[1]/span/span'"
   ]
  },
  {
   "cell_type": "code",
   "execution_count": null,
   "metadata": {},
   "outputs": [],
   "source": [
    "xpath = '/html/body/div[2]/div/div/div[2]/div/div/div[1]/div[1]/div[1]/section/main/div/div[1]/div/div[2]/div/div[2]/div/div[2]/div[91]/div/div/div[2]/div[1]/div[1]/div/div[1]/span[1]/span/div/a/div/div/span'\n",
    "\n",
    "username = driver.find_element(By.XPATH, xpath).text\n",
    "username"
   ]
  }
 ],
 "metadata": {
  "kernelspec": {
   "display_name": "Python 3",
   "language": "python",
   "name": "python3"
  },
  "language_info": {
   "codemirror_mode": {
    "name": "ipython",
    "version": 3
   },
   "file_extension": ".py",
   "mimetype": "text/x-python",
   "name": "python",
   "nbconvert_exporter": "python",
   "pygments_lexer": "ipython3",
   "version": "3.9.16"
  }
 },
 "nbformat": 4,
 "nbformat_minor": 2
}
