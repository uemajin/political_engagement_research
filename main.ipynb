{
 "cells": [
  {
   "cell_type": "code",
   "execution_count": 1,
   "metadata": {},
   "outputs": [],
   "source": [
    "from modules.scrapper import *"
   ]
  },
  {
   "cell_type": "code",
   "execution_count": 2,
   "metadata": {},
   "outputs": [
    {
     "name": "stdout",
     "output_type": "stream",
     "text": [
      "login start\n",
      "login end\n"
     ]
    },
    {
     "data": {
      "text/plain": [
       "[{'comment': 'Mto bom... Pena que quando precisamos de vcs ... Vcs ficaram em cima do muro!',\n",
       "  'likes': 678},\n",
       " {'comment': 'E mesmo assim vc não será prefeito', 'likes': 112},\n",
       " {'comment': 'Bolsonaro vai te apoiar Kim?', 'likes': 30},\n",
       " {'comment': 'Ficaram em cima do muro, não esqueceremos isso. 🇧🇷🧠',\n",
       "  'likes': 159},\n",
       " {'comment': 'Vcs colocaram o lula na presidência, não adianta vim com esse papinho',\n",
       "  'likes': 139},\n",
       " {'comment': 'Então, ai o kim fica tirando os votos da direita e o boulos ganha😍',\n",
       "  'likes': 45},\n",
       " {'comment': 'Parabéns kim, mas acho q vc deveria gastar tb...precisa de arma para lutar uma guerra',\n",
       "  'likes': 26},\n",
       " {'comment': 'Pré-candidato exemplar!!! Parabéns, Kim!👏👏', 'likes': 675},\n",
       " {'comment': 'Cata coquim nunca que é de direita.', 'likes': 179},\n",
       " {'comment': '😄 Vai perder pois em momentos importantes ficam em cima do Muro. agora quero ver ganhar com votos do Centrão ou da esquerda. Boa Sorte.',\n",
       "  'likes': 20},\n",
       " {'comment': '😂😂😂😂😂', 'likes': 121},\n",
       " {'comment': 'É, mas o voto nulo acabou com vcs, infelizmente…. Seria excelente ter vc lá, mas não tem como aceitar a campanha pelo voto Nulo na hora que mais precisávamos…',\n",
       "  'likes': 42},\n",
       " {'comment': 'Perder pra Tabata ou pro Boulos é fim de carreira…',\n",
       "  'likes': 103},\n",
       " {'comment': 'Eu sigo você pelo conteúdo que de vez em quando é legal, mas vocês do MBL não representam o povo. Esse Kim é só mais um entre esse outros aí que vice postou junto',\n",
       "  'likes': 18},\n",
       " {'comment': 'Galera só pães lembrar vocês:  1- kim- direita  2-nunes CENTRO 3-BATATA E BOULOS. ESQUERDA.  resumindo direita só kim,  não confunda',\n",
       "  'likes': 10}]"
      ]
     },
     "execution_count": 2,
     "metadata": {},
     "output_type": "execute_result"
    }
   ],
   "source": [
    "data = get_data_from_instagram()\n",
    "data"
   ]
  },
  {
   "cell_type": "code",
   "execution_count": null,
   "metadata": {},
   "outputs": [],
   "source": []
  }
 ],
 "metadata": {
  "kernelspec": {
   "display_name": "base",
   "language": "python",
   "name": "python3"
  },
  "language_info": {
   "codemirror_mode": {
    "name": "ipython",
    "version": 3
   },
   "file_extension": ".py",
   "mimetype": "text/x-python",
   "name": "python",
   "nbconvert_exporter": "python",
   "pygments_lexer": "ipython3",
   "version": "3.11.4"
  }
 },
 "nbformat": 4,
 "nbformat_minor": 2
}
