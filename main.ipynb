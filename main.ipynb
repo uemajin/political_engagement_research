{
 "cells": [
  {
   "cell_type": "code",
   "execution_count": null,
   "metadata": {},
   "outputs": [],
   "source": [
    "!pip install -r requirements.txt --quiet"
   ]
  },
  {
   "cell_type": "code",
   "execution_count": null,
   "metadata": {},
   "outputs": [],
   "source": [
    "from modules.scrapper import *\n",
    "import pandas as pd"
   ]
  },
  {
   "cell_type": "code",
   "execution_count": null,
   "metadata": {},
   "outputs": [],
   "source": [
    "data = get_data_from_instagram()"
   ]
  },
  {
   "cell_type": "code",
   "execution_count": null,
   "metadata": {},
   "outputs": [],
   "source": [
    "df = pd.DataFrame(data)"
   ]
  },
  {
   "cell_type": "code",
   "execution_count": null,
   "metadata": {},
   "outputs": [],
   "source": [
    "# Create empty lists to store comments and likes\n",
    "comments_list = []\n",
    "likes_list = []\n",
    "names_list = []\n",
    "\n",
    "# Iterate over each row of the DataFrame\n",
    "for index, row in df.iterrows():\n",
    "    comments = row['comments']\n",
    "    for comment_info in comments:\n",
    "        comment = comment_info['comment']\n",
    "        likes = comment_info['likes']\n",
    "        comments_list.append(comment)\n",
    "        likes_list.append(likes)\n",
    "        names_list.append(row['name'])\n",
    "\n",
    "# Create a new DataFrame with comments and likes\n",
    "new_df = pd.DataFrame({'name': names_list, 'comment': comments_list, 'likes': likes_list})"
   ]
  },
  {
   "cell_type": "code",
   "execution_count": null,
   "metadata": {},
   "outputs": [],
   "source": [
    "new_df.to_excel('data/cached_data.xlsx', index=False) # Save the data to an Excel file to avoid scraping again"
   ]
  },
  {
   "cell_type": "code",
   "execution_count": null,
   "metadata": {},
   "outputs": [],
   "source": [
    "likes_df = new_df[['name','likes']].groupby('name').sum().reset_index()\n",
    "likes_df"
   ]
  },
  {
   "cell_type": "code",
   "execution_count": null,
   "metadata": {},
   "outputs": [],
   "source": [
    "comments_df = new_df.groupby('name').size().reset_index(name='comment_count')\n",
    "comments_df"
   ]
  },
  {
   "cell_type": "code",
   "execution_count": null,
   "metadata": {},
   "outputs": [],
   "source": [
    "# Merge comments_df and likes_df\n",
    "engagement_df = pd.merge(comments_df, likes_df, on='name')\n",
    "\n",
    "# Calculate engagement ratio\n",
    "engagement_df['comment_engagement_rate'] = engagement_df['likes'] / engagement_df['comment_count']\n",
    "\n",
    "engagement_df"
   ]
  }
 ],
 "metadata": {
  "kernelspec": {
   "display_name": "base",
   "language": "python",
   "name": "python3"
  },
  "language_info": {
   "codemirror_mode": {
    "name": "ipython",
    "version": 3
   },
   "file_extension": ".py",
   "mimetype": "text/x-python",
   "name": "python",
   "nbconvert_exporter": "python",
   "pygments_lexer": "ipython3",
   "version": "3.11.4"
  }
 },
 "nbformat": 4,
 "nbformat_minor": 2
}
